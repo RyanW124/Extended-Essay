{
 "cells": [
  {
   "cell_type": "code",
   "execution_count": 10,
   "metadata": {},
   "outputs": [],
   "source": [
    "from Model import np, TS, UCB, Bandit, TS2\n",
    "from matplotlib import pyplot as plt\n",
    "from tqdm.notebook import tqdm\n",
    "\n",
    "np.random.seed(0)"
   ]
  },
  {
   "cell_type": "code",
   "execution_count": 11,
   "metadata": {},
   "outputs": [],
   "source": [
    "def run(alg, n, T=None, *, print_values=False, bandits=None, loading=False):\n",
    "    bandits = [Bandit(i) for i in range(n)] if bandits is None else bandits\n",
    "    optimal = max(bandits, key=lambda index: index.mean).mean\n",
    "    if T is None:\n",
    "        T = n * 5\n",
    "    regret = 0\n",
    "    alg = alg(n, bandits)\n",
    "    regrets = [0]\n",
    "    bandit_count = {i:0 for i in bandits}\n",
    "\n",
    "    for i in tqdm(range(T)) if loading else range(T):\n",
    "        bandit, reward = alg.draw()\n",
    "        bandit_count[bandit] += 1\n",
    "\n",
    "        regret += optimal - bandit.mean\n",
    "        regrets.append(regret)\n",
    "\n",
    "    plt.plot(range(T+1), regrets, label=alg.name)\n",
    "    if print_values:\n",
    "        print(optimal)\n",
    "        \n",
    "        for key, value in bandit_count.items():\n",
    "            print(key, value)\n",
    "        print()\n",
    "    most = max(bandit_count, key=bandit_count.get)\n",
    "    print(most, bandit_count[most])\n",
    "    if alg.name == \"TS\":\n",
    "        num = 1000\n",
    "        for p in alg.params:\n",
    "            print(p.bandit)\n",
    "            print(sum(np.sqrt(1/np.random.gamma(p.alpha, 1/p.beta)) for _ in range(num))/num)\n",
    "            print(p.alpha/p.beta, p.nu, np.sqrt(p.beta/p.alpha))\n",
    "            print()\n",
    "    return bandits\n"
   ]
  },
  {
   "cell_type": "code",
   "execution_count": 12,
   "metadata": {},
   "outputs": [
    {
     "name": "stdout",
     "output_type": "stream",
     "text": [
      "Bandit 10: mean 97.8618342232764 std 7.9915856421672355\n",
      "Bandit 4: mean 96.36627605010293 std 3.8344151882577773 81\n",
      "Bandit 0: mean 54.88135039273247 std 7.151893663724195\n",
      "1.8060281319588116\n",
      "1.0 1 1.0\n",
      "\n",
      "Bandit 1: mean 60.276337607164386 std 5.448831829968968\n",
      "1.9036610283274111\n",
      "1.0 1 1.0\n",
      "\n",
      "Bandit 2: mean 42.36547993389047 std 6.458941130666561\n",
      "1.7693440175569415\n",
      "1.0 1 1.0\n",
      "\n",
      "Bandit 3: mean 43.75872112626925 std 8.917730007820797\n",
      "2.0356385146604348\n",
      "1.0 1 1.0\n",
      "\n",
      "Bandit 4: mean 96.36627605010293 std 3.8344151882577773\n",
      "4.162464816957255\n",
      "0.058956645992283896 81 4.11844827212155\n",
      "\n",
      "Bandit 5: mean 79.17250380826646 std 5.288949197529044\n",
      "1.7777382088635127\n",
      "1.0 1 1.0\n",
      "\n",
      "Bandit 6: mean 56.80445610939323 std 9.25596638292661\n",
      "1.7630779322456365\n",
      "1.0 1 1.0\n",
      "\n",
      "Bandit 7: mean 7.103605819788694 std 0.8712929970154071\n",
      "1.808997061001248\n",
      "1.0 1 1.0\n",
      "\n",
      "Bandit 8: mean 2.021839744032572 std 8.32619845547938\n",
      "1.9009628142280421\n",
      "1.0 1 1.0\n",
      "\n",
      "Bandit 9: mean 77.81567509498505 std 8.700121482468191\n",
      "1.790735744273637\n",
      "1.0 1 1.0\n",
      "\n",
      "Bandit 10: mean 97.8618342232764 std 7.9915856421672355\n",
      "1.7353917278245992\n",
      "1.0 1 1.0\n",
      "\n",
      "Bandit 11: mean 46.147936225293186 std 7.805291762864554\n",
      "1.7769079410293929\n",
      "1.0 1 1.0\n",
      "\n",
      "Bandit 12: mean 11.827442586893323 std 6.399210213275238\n",
      "1.7378097632351888\n",
      "1.0 1 1.0\n",
      "\n",
      "Bandit 13: mean 14.33532874090464 std 9.446689170495839\n",
      "1.9743418706408804\n",
      "1.0 1 1.0\n",
      "\n",
      "Bandit 14: mean 52.184832175007166 std 4.146619399905235\n",
      "1.7577260770920462\n",
      "1.0 1 1.0\n",
      "\n",
      "Bandit 15: mean 26.455561210462697 std 7.742336894342166\n",
      "1.6503547910627703\n",
      "1.0 1 1.0\n",
      "\n",
      "Bandit 16: mean 45.615033221654855 std 5.684339488686485\n",
      "1.7347206946468194\n",
      "1.0 1 1.0\n",
      "\n",
      "Bandit 17: mean 1.8789800436355142 std 6.176354970758771\n",
      "1.8632799886812943\n",
      "1.0 1 1.0\n",
      "\n",
      "Bandit 18: mean 61.20957227224214 std 6.169339968747569\n",
      "1.9551535571593437\n",
      "1.0 1 1.0\n",
      "\n",
      "Bandit 19: mean 94.37480785146242 std 6.818202991034834\n",
      "1.7595342345311262\n",
      "1.0 1 1.0\n",
      "\n",
      "Bandit 4: mean 96.36627605010293 std 3.8344151882577773 78\n",
      "Bandit 10: mean 97.8618342232764 std 7.9915856421672355 73\n"
     ]
    },
    {
     "data": {
      "image/png": "[encoded data removed]",
      "text/plain": [
       "<Figure size 432x288 with 1 Axes>"
      ]
     },
     "metadata": {
      "needs_background": "light"
     },
     "output_type": "display_data"
    }
   ],
   "source": [
    "n = 20\n",
    "while n < 21:\n",
    "    bandits = [Bandit(i) for i in range(n)]\n",
    "    optimal = max(bandits, key=lambda index: index.mean)\n",
    "    print(optimal)\n",
    "    run(TS, n, bandits=bandits)\n",
    "    run(UCB, n, bandits=bandits)\n",
    "    run(TS2, n, bandits=bandits)\n",
    "    plt.legend()\n",
    "    plt.title(f\"{n} bandits\")\n",
    "    plt.show()\n",
    "    n*=2"
   ]
  },
  {
   "cell_type": "markdown",
   "metadata": {},
   "source": [
    "https://jmlr.csail.mit.edu/papers/volume18/15-154/15-154.pdf"
   ]
  }
 ],
 "metadata": {
  "interpreter": {
   "hash": "b954bdc3e9c06bbff21cf004311872cde5014575c786f27239dd4c0dd7eb7145"
  },
  "kernelspec": {
   "display_name": "Python 3.9.2 64-bit",
   "language": "python",
   "name": "python3"
  },
  "language_info": {
   "codemirror_mode": {
    "name": "ipython",
    "version": 3
   },
   "file_extension": ".py",
   "mimetype": "text/x-python",
   "name": "python",
   "nbconvert_exporter": "python",
   "pygments_lexer": "ipython3",
   "version": "3.9.2"
  },
  "orig_nbformat": 4
 },
 "nbformat": 4,
 "nbformat_minor": 2
}
